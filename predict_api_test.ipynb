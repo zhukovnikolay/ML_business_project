{
 "cells": [
  {
   "cell_type": "markdown",
   "metadata": {},
   "source": [
    "### Проверка того, что наше api работает\n",
    "\n",
    "Перед началом необходимо собрать docker-образ и запустить контейнер\n",
    "\n",
    "1. Следовать инструкциям https://github.com/fimochka-sudo/GB_docker_flask_example/blob/main/README.md\n",
    "2. Далее уже запускать код ниже"
   ]
  },
  {
   "cell_type": "code",
   "execution_count": 1,
   "metadata": {},
   "outputs": [
    {
     "data": {
      "text/html": [
       "<div>\n",
       "<style scoped>\n",
       "    .dataframe tbody tr th:only-of-type {\n",
       "        vertical-align: middle;\n",
       "    }\n",
       "\n",
       "    .dataframe tbody tr th {\n",
       "        vertical-align: top;\n",
       "    }\n",
       "\n",
       "    .dataframe thead th {\n",
       "        text-align: right;\n",
       "    }\n",
       "</style>\n",
       "<table border=\"1\" class=\"dataframe\">\n",
       "  <thead>\n",
       "    <tr style=\"text-align: right;\">\n",
       "      <th></th>\n",
       "      <th>Date</th>\n",
       "      <th>USD course</th>\n",
       "      <th>Commitments Long-Term</th>\n",
       "      <th>Commitments Short-Term</th>\n",
       "      <th>Earnings per share</th>\n",
       "      <th>EBITDA</th>\n",
       "      <th>CB rate</th>\n",
       "      <th>FRS rate</th>\n",
       "      <th>Nickel close price, USD</th>\n",
       "      <th>Copper close price, USD</th>\n",
       "      <th>Palladium close price, USD</th>\n",
       "      <th>Platinum close price, USD</th>\n",
       "      <th>MMVB close</th>\n",
       "      <th>GMKN close, RUB</th>\n",
       "    </tr>\n",
       "  </thead>\n",
       "  <tbody>\n",
       "    <tr>\n",
       "      <th>0</th>\n",
       "      <td>2021-07-19</td>\n",
       "      <td>74.165604</td>\n",
       "      <td>9319.766602</td>\n",
       "      <td>3798.506348</td>\n",
       "      <td>42.369442</td>\n",
       "      <td>5901.756836</td>\n",
       "      <td>0.055</td>\n",
       "      <td>0.0025</td>\n",
       "      <td>18380</td>\n",
       "      <td>9220.865234</td>\n",
       "      <td>2597.0</td>\n",
       "      <td>1068.099976</td>\n",
       "      <td>3693.419922</td>\n",
       "      <td>25046</td>\n",
       "    </tr>\n",
       "    <tr>\n",
       "      <th>1</th>\n",
       "      <td>2021-07-20</td>\n",
       "      <td>74.346298</td>\n",
       "      <td>9319.766602</td>\n",
       "      <td>3798.506348</td>\n",
       "      <td>42.369442</td>\n",
       "      <td>5901.756836</td>\n",
       "      <td>0.055</td>\n",
       "      <td>0.0025</td>\n",
       "      <td>18665</td>\n",
       "      <td>9220.865234</td>\n",
       "      <td>2640.5</td>\n",
       "      <td>1067.199951</td>\n",
       "      <td>3704.399902</td>\n",
       "      <td>25138</td>\n",
       "    </tr>\n",
       "    <tr>\n",
       "      <th>2</th>\n",
       "      <td>2021-07-21</td>\n",
       "      <td>74.490997</td>\n",
       "      <td>9319.766602</td>\n",
       "      <td>3798.506348</td>\n",
       "      <td>42.369442</td>\n",
       "      <td>5901.756836</td>\n",
       "      <td>0.055</td>\n",
       "      <td>0.0025</td>\n",
       "      <td>18605</td>\n",
       "      <td>9220.865234</td>\n",
       "      <td>2660.0</td>\n",
       "      <td>1079.099976</td>\n",
       "      <td>3722.959961</td>\n",
       "      <td>25050</td>\n",
       "    </tr>\n",
       "    <tr>\n",
       "      <th>3</th>\n",
       "      <td>2021-07-22</td>\n",
       "      <td>74.494698</td>\n",
       "      <td>9319.766602</td>\n",
       "      <td>3798.506348</td>\n",
       "      <td>42.369442</td>\n",
       "      <td>5901.756836</td>\n",
       "      <td>0.055</td>\n",
       "      <td>0.0025</td>\n",
       "      <td>18945</td>\n",
       "      <td>9220.865234</td>\n",
       "      <td>2723.0</td>\n",
       "      <td>1093.500000</td>\n",
       "      <td>3754.439941</td>\n",
       "      <td>25080</td>\n",
       "    </tr>\n",
       "    <tr>\n",
       "      <th>4</th>\n",
       "      <td>2021-07-23</td>\n",
       "      <td>73.694504</td>\n",
       "      <td>9319.766602</td>\n",
       "      <td>3798.506348</td>\n",
       "      <td>42.369442</td>\n",
       "      <td>5901.756836</td>\n",
       "      <td>0.055</td>\n",
       "      <td>0.0025</td>\n",
       "      <td>19470</td>\n",
       "      <td>9220.865234</td>\n",
       "      <td>2672.5</td>\n",
       "      <td>1058.699951</td>\n",
       "      <td>3734.540039</td>\n",
       "      <td>24990</td>\n",
       "    </tr>\n",
       "  </tbody>\n",
       "</table>\n",
       "</div>"
      ],
      "text/plain": [
       "        Date  USD course  Commitments Long-Term  Commitments Short-Term  \\\n",
       "0 2021-07-19   74.165604            9319.766602             3798.506348   \n",
       "1 2021-07-20   74.346298            9319.766602             3798.506348   \n",
       "2 2021-07-21   74.490997            9319.766602             3798.506348   \n",
       "3 2021-07-22   74.494698            9319.766602             3798.506348   \n",
       "4 2021-07-23   73.694504            9319.766602             3798.506348   \n",
       "\n",
       "   Earnings per share       EBITDA  CB rate  FRS rate  \\\n",
       "0           42.369442  5901.756836    0.055    0.0025   \n",
       "1           42.369442  5901.756836    0.055    0.0025   \n",
       "2           42.369442  5901.756836    0.055    0.0025   \n",
       "3           42.369442  5901.756836    0.055    0.0025   \n",
       "4           42.369442  5901.756836    0.055    0.0025   \n",
       "\n",
       "   Nickel close price, USD  Copper close price, USD  \\\n",
       "0                    18380              9220.865234   \n",
       "1                    18665              9220.865234   \n",
       "2                    18605              9220.865234   \n",
       "3                    18945              9220.865234   \n",
       "4                    19470              9220.865234   \n",
       "\n",
       "   Palladium close price, USD  Platinum close price, USD   MMVB close  \\\n",
       "0                      2597.0                1068.099976  3693.419922   \n",
       "1                      2640.5                1067.199951  3704.399902   \n",
       "2                      2660.0                1079.099976  3722.959961   \n",
       "3                      2723.0                1093.500000  3754.439941   \n",
       "4                      2672.5                1058.699951  3734.540039   \n",
       "\n",
       "   GMKN close, RUB  \n",
       "0            25046  \n",
       "1            25138  \n",
       "2            25050  \n",
       "3            25080  \n",
       "4            24990  "
      ]
     },
     "execution_count": 1,
     "metadata": {},
     "output_type": "execute_result"
    }
   ],
   "source": [
    "import pandas as pd\n",
    "from sklearn.metrics import r2_score\n",
    "from urllib import request, parse\n",
    "\n",
    "df = pd.read_excel(\"final.xlsx\")\n",
    "df.head()"
   ]
  },
  {
   "cell_type": "code",
   "execution_count": 2,
   "metadata": {},
   "outputs": [],
   "source": [
    "X = df.drop('GMKN close, RUB', axis = 1).copy()\n",
    "y = df[['GMKN close, RUB']].copy()"
   ]
  },
  {
   "cell_type": "code",
   "execution_count": null,
   "metadata": {},
   "outputs": [],
   "source": []
  },
  {
   "cell_type": "code",
   "execution_count": 10,
   "metadata": {},
   "outputs": [],
   "source": [
    "import urllib.request\n",
    "import json      \n",
    "\n",
    "def get_prediction(dat, usd, com_long, com_short, earn, ebitds, cb_rate, frs_rate, nickel, copper, palladium, platinum, mmvb):\n",
    "    body = {'Date': dat,\n",
    "            'USD course': usd,\n",
    "            'Commitments Long-Term': com_long,\n",
    "            'Commitments Short-Term': com_short,\n",
    "            'Earnings per share': earn,\n",
    "            'EBITDA': ebitda,\n",
    "            'CB rate': cb_rate,\n",
    "            'FRS rate': frs_rate,\n",
    "            'Nickel close price, USD': nickel,\n",
    "            'Copper close price, USD': copper,\n",
    "            'Palladium close price, USD': palladium,\n",
    "            'Platinum close price, USD': platinum,\n",
    "            'MMVB close': mmvb} \n",
    "\n",
    "    myurl = \"http://0.0.0.0:8180/predict\"\n",
    "    req = urllib.request.Request(myurl)\n",
    "    req.add_header('Content-Type', 'application/json; charset=utf-8')\n",
    "    jsondata = json.dumps(body)\n",
    "    jsondataasbytes = jsondata.encode('utf-8')   # needs to be bytes\n",
    "    req.add_header('Content-Length', len(jsondataasbytes))\n",
    "    #print (jsondataasbytes)\n",
    "    response = urllib.request.urlopen(req, jsondataasbytes)\n",
    "    return json.loads(response.read())['predictions']"
   ]
  },
  {
   "cell_type": "code",
   "execution_count": 7,
   "metadata": {},
   "outputs": [
    {
     "name": "stdout",
     "output_type": "stream",
     "text": [
      "CPU times: user 340 ms, sys: 55.7 ms, total: 396 ms\n",
      "Wall time: 5.16 s\n"
     ]
    }
   ],
   "source": [
    "%%time\n",
    "predictions = X_test[['Date', 'USD course', 'Commitments Long-Term', 'Commitments Short-Term', 'Earnings per share',\n",
    "                     'EBITDA', 'CB rate', 'FRS rate', 'Nickel close price, USD', 'Copper close price, USD',\n",
    "                     'Palladium close price, USD', 'Platinum close price, USD', 'MMVB close']].iloc[:9].apply(lambda x: get_prediction(x[0], \n",
    "                                                                                               x[1], \n",
    "                                                                                               x[2], x[3], x[4], x[5], x[6], x[7], x[8], x[9], x[10], x[11], x[12]), 1)"
   ]
  },
  {
   "cell_type": "code",
   "execution_count": 8,
   "metadata": {},
   "outputs": [
    {
     "data": {
      "text/plain": [
       "0.9803161348046525"
      ]
     },
     "execution_count": 8,
     "metadata": {},
     "output_type": "execute_result"
    }
   ],
   "source": [
    "r2_score(y_score=predictions.values, y_true=y_test.iloc[:9])"
   ]
  },
  {
   "cell_type": "code",
   "execution_count": 7,
   "metadata": {},
   "outputs": [],
   "source": [
    "#X_test[['description', 'company_profile', 'benefits']].head(3)"
   ]
  },
  {
   "cell_type": "markdown",
   "metadata": {},
   "source": [
    "Давайте подумаем, где наше api может сломаться"
   ]
  },
  {
   "cell_type": "code",
   "execution_count": 9,
   "metadata": {},
   "outputs": [
    {
     "data": {
      "text/plain": [
       "0.13518841848029955"
      ]
     },
     "execution_count": 9,
     "metadata": {},
     "output_type": "execute_result"
    }
   ],
   "source": [
    "get_prediction(\"\", \"\", None)"
   ]
  },
  {
   "cell_type": "code",
   "execution_count": null,
   "metadata": {},
   "outputs": [],
   "source": []
  },
  {
   "cell_type": "code",
   "execution_count": null,
   "metadata": {},
   "outputs": [],
   "source": []
  }
 ],
 "metadata": {
  "kernelspec": {
   "display_name": "Python 3",
   "language": "python",
   "name": "python3"
  },
  "language_info": {
   "codemirror_mode": {
    "name": "ipython",
    "version": 3
   },
   "file_extension": ".py",
   "mimetype": "text/x-python",
   "name": "python",
   "nbconvert_exporter": "python",
   "pygments_lexer": "ipython3",
   "version": "3.8.5"
  }
 },
 "nbformat": 4,
 "nbformat_minor": 2
}
